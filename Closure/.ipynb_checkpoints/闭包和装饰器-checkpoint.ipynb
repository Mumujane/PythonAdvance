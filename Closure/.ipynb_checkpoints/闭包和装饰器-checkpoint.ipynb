{
 "cells": [
  {
   "cell_type": "code",
   "execution_count": 1,
   "metadata": {},
   "outputs": [
    {
     "name": "stdout",
     "output_type": "stream",
     "text": [
      "test 123\n",
      "<function test at 0x1056c4730>\n",
      "test 66666\n"
     ]
    }
   ],
   "source": [
    "\"\"\"\n",
    "关于函数的学习\n",
    "\"\"\"\n",
    "\n",
    "def test(args):\n",
    "    print(\"test\", args)\n",
    "\n",
    "\n",
    "def test2(args):\n",
    "    print(args)\n",
    "    args(66666)\n",
    "\n",
    "\n",
    "def main():\n",
    "    test(123)\n",
    "    test2(test)\n",
    "\n",
    "\n",
    "if __name__ == '__main__':\n",
    "    main()\n"
   ]
  },
  {
   "cell_type": "code",
   "execution_count": 8,
   "metadata": {},
   "outputs": [
    {
     "name": "stdout",
     "output_type": "stream",
     "text": [
      "<function test at 0x10574b1e0>\n",
      "test 6666\n"
     ]
    }
   ],
   "source": [
    "def test(value):\n",
    "    print(\"test\", value)\n",
    "    \n",
    "def test2(fun):\n",
    "    print(fun)\n",
    "    fun(6666)\n",
    "\n",
    "test2(test)"
   ]
  },
  {
   "cell_type": "code",
   "execution_count": 12,
   "metadata": {},
   "outputs": [
    {
     "name": "stdout",
     "output_type": "stream",
     "text": [
      "4300000\n",
      "6142.857142857142\n",
      "7857.142857142857\n"
     ]
    }
   ],
   "source": [
    "\"\"\"\n",
    "闭包, 一种特殊的函数\n",
    "两个函数的嵌套, 外层函数返回内层函数的引用, 一般外层函数都会有参数\n",
    "\n",
    "外层函数的参数会在内存中保留下来\n",
    "\n",
    "\n",
    "格式如下:\n",
    "\n",
    "def 外层函数(参数):\n",
    "    def 内层函数():\n",
    "        print(\"内层函数执行\", 参数)\n",
    "    return 内层函数\n",
    "    \n",
    "内层函数的引用 = 外层函数(\"传入参数\")\n",
    "\n",
    "内层函数的引用()\n",
    "内层函数的引用()\n",
    "\"\"\"\n",
    "def set_rate(rate):\n",
    "    def sum_inner(money1, money2):\n",
    "        print((money1+ money2)* rate)\n",
    "    return sum_inner\n",
    "\n",
    "rate_jp = set_rate(100)\n",
    "rate_jp(18000, 25000)\n",
    "\n",
    "\n",
    "rate_usa = set_rate(1/7)\n",
    "rate_usa(18000, 25000)\n",
    "rate_usa(25000, 30000)"
   ]
  },
  {
   "cell_type": "code",
   "execution_count": 13,
   "metadata": {},
   "outputs": [
    {
     "name": "stdout",
     "output_type": "stream",
     "text": [
      "权限认证\n",
      "转账\n"
     ]
    }
   ],
   "source": [
    "\"\"\"\n",
    "装饰器\n",
    "\n",
    "解释器的作用: \n",
    "    在不改变原先函数代码的情况下,给原先的函数添加额外的功能\n",
    "\"\"\"\n",
    "\n",
    "# 装饰器的推导:\n",
    "\n",
    "def set_fun(func):\n",
    "    def call_fun():\n",
    "        print(\"权限认证\")\n",
    "        func()\n",
    "    return call_fun\n",
    "\n",
    "def test():\n",
    "    print(\"转账\")\n",
    "    \n",
    "fun = set_fun(test) # 将函数的引用作为参数传递给一个函数\n",
    "\n",
    "\n",
    "fun()\n"
   ]
  },
  {
   "cell_type": "code",
   "execution_count": null,
   "metadata": {},
   "outputs": [],
   "source": []
  }
 ],
 "metadata": {
  "kernelspec": {
   "display_name": "Python 3",
   "language": "python",
   "name": "python3"
  },
  "language_info": {
   "codemirror_mode": {
    "name": "ipython",
    "version": 3
   },
   "file_extension": ".py",
   "mimetype": "text/x-python",
   "name": "python",
   "nbconvert_exporter": "python",
   "pygments_lexer": "ipython3",
   "version": "3.6.5"
  }
 },
 "nbformat": 4,
 "nbformat_minor": 2
}
